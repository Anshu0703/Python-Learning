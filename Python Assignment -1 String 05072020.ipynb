{
 "cells": [
  {
   "cell_type": "markdown",
   "metadata": {},
   "source": [
    "### Python Assignment - 1String"
   ]
  },
  {
   "cell_type": "markdown",
   "metadata": {},
   "source": [
    "1. Define different types of variables (integer, boolean,\n",
    "string, float, complex) and print their values and their\n",
    "types "
   ]
  },
  {
   "cell_type": "code",
   "execution_count": 1,
   "metadata": {},
   "outputs": [
    {
     "name": "stdout",
     "output_type": "stream",
     "text": [
      "integer is  3\n",
      "<class 'int'>\n",
      "boolean is  True\n",
      "<class 'bool'>\n",
      "string is  Anshu\n",
      "<class 'str'>\n",
      "float is  3.0\n",
      "<class 'float'>\n",
      "complex is  (3+4j)\n",
      "<class 'complex'>\n"
     ]
    }
   ],
   "source": [
    "a=3\n",
    "b=True\n",
    "c=\"Anshu\"\n",
    "d=3.0\n",
    "e=3+4j\n",
    "print(\"integer is \",a)\n",
    "print(type(a))\n",
    "print(\"boolean is \",b)\n",
    "print(type(b))\n",
    "print(\"string is \",c)\n",
    "print(type(c))\n",
    "print(\"float is \",d)\n",
    "print(type(d))\n",
    "print(\"complex is \",e)\n",
    "print(type(e))"
   ]
  },
  {
   "cell_type": "markdown",
   "metadata": {},
   "source": [
    "2. In the above question convert float variable into integer\n",
    "type and integer variable into str type."
   ]
  },
  {
   "cell_type": "code",
   "execution_count": 2,
   "metadata": {},
   "outputs": [
    {
     "name": "stdout",
     "output_type": "stream",
     "text": [
      "3\n",
      "<class 'int'>\n"
     ]
    }
   ],
   "source": [
    "f = int(d)\n",
    "print(f)\n",
    "print(type(f))"
   ]
  },
  {
   "cell_type": "code",
   "execution_count": 3,
   "metadata": {},
   "outputs": [
    {
     "name": "stdout",
     "output_type": "stream",
     "text": [
      "3\n",
      "<class 'str'>\n"
     ]
    }
   ],
   "source": [
    "g = str(a)\n",
    "print(g)\n",
    "print(type(g))"
   ]
  },
  {
   "cell_type": "markdown",
   "metadata": {},
   "source": [
    "3. What will you get converting “abc” into boolean ?"
   ]
  },
  {
   "cell_type": "code",
   "execution_count": 4,
   "metadata": {},
   "outputs": [
    {
     "name": "stdout",
     "output_type": "stream",
     "text": [
      "True\n"
     ]
    }
   ],
   "source": [
    "h = bool('abc')\n",
    "print(h)"
   ]
  },
  {
   "cell_type": "markdown",
   "metadata": {},
   "source": [
    "4. Print the substring from index 2 to index 4 for any given\n",
    "string. For example ( llo ) from “Hello World”"
   ]
  },
  {
   "cell_type": "code",
   "execution_count": 5,
   "metadata": {},
   "outputs": [
    {
     "name": "stdout",
     "output_type": "stream",
     "text": [
      "llo\n"
     ]
    }
   ],
   "source": [
    "i = \"Hello World\"\n",
    "print(i[2:5])"
   ]
  },
  {
   "cell_type": "markdown",
   "metadata": {},
   "source": [
    "5. Write a program to check a substring in a given string.\n",
    "For example 'e' is present in the word 'Umbrella'"
   ]
  },
  {
   "cell_type": "code",
   "execution_count": 6,
   "metadata": {},
   "outputs": [
    {
     "data": {
      "text/plain": [
       "4"
      ]
     },
     "execution_count": 6,
     "metadata": {},
     "output_type": "execute_result"
    }
   ],
   "source": [
    "j = \"Umbrella\"\n",
    "k = \"e\"\n",
    "j.find(k) # return position of the substring"
   ]
  },
  {
   "cell_type": "markdown",
   "metadata": {},
   "source": [
    "6. Use the correct comparison operator to check if 5 is not\n",
    "equal to 10. "
   ]
  },
  {
   "cell_type": "code",
   "execution_count": 7,
   "metadata": {},
   "outputs": [
    {
     "name": "stdout",
     "output_type": "stream",
     "text": [
      "True\n"
     ]
    }
   ],
   "source": [
    "a = 5; b=10\n",
    "print(a!=b)"
   ]
  },
  {
   "cell_type": "markdown",
   "metadata": {},
   "source": [
    "7. Write a program to get a string from the user and sort the\n",
    "words of the string in alphabetical order."
   ]
  },
  {
   "cell_type": "code",
   "execution_count": 14,
   "metadata": {},
   "outputs": [
    {
     "name": "stdout",
     "output_type": "stream",
     "text": [
      "Enter the stringDeol Saab Abhay\n"
     ]
    }
   ],
   "source": [
    "my_str = input('Enter the string')"
   ]
  },
  {
   "cell_type": "code",
   "execution_count": 15,
   "metadata": {},
   "outputs": [],
   "source": [
    "words = my_str.split()"
   ]
  },
  {
   "cell_type": "code",
   "execution_count": 16,
   "metadata": {},
   "outputs": [],
   "source": [
    "words.sort()"
   ]
  },
  {
   "cell_type": "code",
   "execution_count": 18,
   "metadata": {},
   "outputs": [
    {
     "data": {
      "text/plain": [
       "['Abhay', 'Deol', 'Saab']"
      ]
     },
     "execution_count": 18,
     "metadata": {},
     "output_type": "execute_result"
    }
   ],
   "source": [
    "words"
   ]
  },
  {
   "cell_type": "markdown",
   "metadata": {},
   "source": [
    "8. Join two words using special characters like ‘ – ‘ ,’#’"
   ]
  },
  {
   "cell_type": "code",
   "execution_count": 8,
   "metadata": {},
   "outputs": [
    {
     "name": "stdout",
     "output_type": "stream",
     "text": [
      "one word-second word#\n"
     ]
    }
   ],
   "source": [
    "a = \"one word\"\n",
    "b = \"second word\"\n",
    "c = a+'-'+b+'#'\n",
    "print(c)"
   ]
  },
  {
   "cell_type": "code",
   "execution_count": 9,
   "metadata": {},
   "outputs": [
    {
     "data": {
      "text/plain": [
       "str"
      ]
     },
     "execution_count": 9,
     "metadata": {},
     "output_type": "execute_result"
    }
   ],
   "source": [
    "type(a)"
   ]
  },
  {
   "cell_type": "markdown",
   "metadata": {},
   "source": [
    "9. Find all occurrences of “INDIA” in a given string\n",
    "ignoring the case.\n",
    "input_str = \"Welcome to INDIA. india is awesome."
   ]
  },
  {
   "cell_type": "code",
   "execution_count": 19,
   "metadata": {},
   "outputs": [
    {
     "data": {
      "text/plain": [
       "2"
      ]
     },
     "execution_count": 19,
     "metadata": {},
     "output_type": "execute_result"
    }
   ],
   "source": [
    "input_str = \"Welcome to INDIA. india is awesome\"\n",
    "ip_str = input_str.casefold()\n",
    "ip_str.count(\"india\")"
   ]
  },
  {
   "cell_type": "markdown",
   "metadata": {},
   "source": [
    "10. Replace first two ‘l’ with ‘n’ in ‘Hello World’"
   ]
  },
  {
   "cell_type": "code",
   "execution_count": 24,
   "metadata": {},
   "outputs": [
    {
     "name": "stdout",
     "output_type": "stream",
     "text": [
      "Henno World\n"
     ]
    }
   ],
   "source": [
    "a1 = 'Hello World'\n",
    "a2 = a1.replace('l','n',2)\n",
    "print(a2)"
   ]
  },
  {
   "cell_type": "markdown",
   "metadata": {},
   "source": [
    "11. Write a program that takes your full name as input and\n",
    "displays the abbreviations of the first and middle names\n",
    "except the last name which is displayed as it is. For\n",
    "example, if your name is Robert Brett Roser, then the\n",
    "output should be R.B.Roser"
   ]
  },
  {
   "cell_type": "code",
   "execution_count": 5,
   "metadata": {},
   "outputs": [
    {
     "name": "stdout",
     "output_type": "stream",
     "text": [
      "Enter Full Name ::>Anshu Garg Sharma\n",
      "Short Form of Name Is ::> A.G.Sharma\n"
     ]
    }
   ],
   "source": [
    "def fullname(str1):\n",
    "   # split the string into a list \n",
    "   lst = str1.split()\n",
    "   newspace = \"\"\n",
    "   # traverse in the list \n",
    "   for i in range(len(lst)-1):\n",
    "      str1 = lst[i]\n",
    "   # adds the capital first character \n",
    "      newspace += (str1[0].upper()+'.')\n",
    "   # l[-1] gives last item of list l.\n",
    "   newspace += lst[-1].title()\n",
    "   return newspace \n",
    "# Driver code            \n",
    "str1=input(\"Enter Full Name ::>\")\n",
    "print(\"Short Form of Name Is ::>\",fullname(str1)) "
   ]
  },
  {
   "cell_type": "markdown",
   "metadata": {},
   "source": [
    "12. Write a program to check if a given string is a\n",
    "Palindrome.\n",
    "A palindrome reads the same from front and back e.g.-\n",
    "aba, ccaacc, mom, etc."
   ]
  },
  {
   "cell_type": "code",
   "execution_count": 37,
   "metadata": {},
   "outputs": [
    {
     "name": "stdout",
     "output_type": "stream",
     "text": [
      "Enter the stringaba\n",
      "Palindrome\n"
     ]
    }
   ],
   "source": [
    "pa_str = input(\"Enter the string\")\n",
    "rev = ''\n",
    "count = 1\n",
    "for i in reversed(range(len(pa_str))) :\n",
    "    rev = rev + pa_str[i]\n",
    "if pa_str == rev:\n",
    "    print(\"Palindrome\")\n",
    "else:\n",
    "    print(\"Not palindrome\")"
   ]
  }
 ],
 "metadata": {
  "kernelspec": {
   "display_name": "Python 3",
   "language": "python",
   "name": "python3"
  },
  "language_info": {
   "codemirror_mode": {
    "name": "ipython",
    "version": 3
   },
   "file_extension": ".py",
   "mimetype": "text/x-python",
   "name": "python",
   "nbconvert_exporter": "python",
   "pygments_lexer": "ipython3",
   "version": "3.7.6"
  }
 },
 "nbformat": 4,
 "nbformat_minor": 4
}
