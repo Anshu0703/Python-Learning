{
 "cells": [
  {
   "cell_type": "markdown",
   "metadata": {},
   "source": [
    "1. Take two integer values from the user and print greatest\n",
    "among them."
   ]
  },
  {
   "cell_type": "code",
   "execution_count": 5,
   "metadata": {},
   "outputs": [
    {
     "name": "stdout",
     "output_type": "stream",
     "text": [
      "Enter 1st No.8\n",
      "Enter 2st No.9\n",
      "b is largest no. => 9\n"
     ]
    }
   ],
   "source": [
    "a = int(input(\"Enter 1st No.\"))\n",
    "b = int(input(\"Enter 2st No.\"))\n",
    "if a>b:\n",
    "    print(\"a is largest no. =>\",a)\n",
    "elif a<b:\n",
    "    print(\"b is largest no. =>\",b)\n",
    "else:\n",
    "    print(\"a and b are equal =>\",a)"
   ]
  },
  {
   "cell_type": "markdown",
   "metadata": {},
   "source": [
    "2. Write a program that reads an integer from the user. Then\n",
    "your program should display a message indicating\n",
    "whether the integer is even or odd. "
   ]
  },
  {
   "cell_type": "code",
   "execution_count": 7,
   "metadata": {},
   "outputs": [
    {
     "name": "stdout",
     "output_type": "stream",
     "text": [
      "Enter the No.13\n",
      "a is odd no. => 13\n"
     ]
    }
   ],
   "source": [
    "a = int(input(\"Enter the No.\"))\n",
    "if a%2==0:\n",
    "    print(\"a is even no. =>\",a)\n",
    "else:\n",
    "    print(\"a is odd no. =>\",a)"
   ]
  },
  {
   "cell_type": "markdown",
   "metadata": {},
   "source": [
    "3. Create a program that reads a letter of the alphabet from\n",
    "the user. If the user enters a, e, i, o or u then your program\n",
    "should display a message indicating that the entered letter is\n",
    "a vowel. If the user enters y then your program should\n",
    "display a message indicating that sometimes y is a vowel,\n",
    "and sometimes y is a consonant. Otherwise your program\n",
    "should display a message indicating that the letter is a\n",
    "consonant."
   ]
  },
  {
   "cell_type": "code",
   "execution_count": 20,
   "metadata": {},
   "outputs": [
    {
     "name": "stdout",
     "output_type": "stream",
     "text": [
      "Enter the single alphabet Y\n",
      "sometimes y is a vowel, and sometimes y is a consonant\n"
     ]
    }
   ],
   "source": [
    "a = input(\"Enter the single alphabet \")\n",
    "b= a.lower()\n",
    "if ((b =='a') or (b=='e') or (b=='i') or (b=='o') or (b=='u')):\n",
    "    print(\"The entered letter is a vowel\")\n",
    "elif b=='y':\n",
    "    print(\"sometimes y is a vowel, and sometimes y is a consonant\")\n",
    "else:\n",
    "    print(\"The letter is a consonant\") "
   ]
  },
  {
   "cell_type": "markdown",
   "metadata": {},
   "source": [
    "4. A triangle can be classified based on the lengths of its\n",
    "sides as equilateral, isosceles or scalene. All three sides of an\n",
    "equilateral triangle have the same length. An isosceles\n",
    "triangle has two sides that are the same length, and a third\n",
    "side that is a different length. If all of the sides have different\n",
    "lengths then the triangle is scalene. Write a program that\n",
    "reads the lengths of the three sides of a triangle from the user.\n",
    "Then display a message that states the triangle’s type."
   ]
  },
  {
   "cell_type": "code",
   "execution_count": 8,
   "metadata": {},
   "outputs": [
    {
     "name": "stdout",
     "output_type": "stream",
     "text": [
      "Enter 1st side of the triangle 7\n",
      "Enter 2nd side of the triangle 8\n",
      "Enter 3rd side of the triangle 2\n",
      "Scalene triangle with sides a {} b {} c{} 7 8 2\n"
     ]
    }
   ],
   "source": [
    "a = int(input(\"Enter 1st side of the triangle \"))\n",
    "b = int(input(\"Enter 2nd side of the triangle \"))\n",
    "c = int(input(\"Enter 3rd side of the triangle \"))\n",
    "if a == b == c:\n",
    "    print(\"Equilateral triangle with sides \",a)\n",
    "elif a==b or b==c or a==c:\n",
    "    print(\"Isosceles triangle with sides a {} b {} c{}\",a,b,c)\n",
    "elif a!= b!= c:\n",
    "    print(\"Scalene triangle with sides a {} b {} c{}\",a,b,c)"
   ]
  },
  {
   "cell_type": "markdown",
   "metadata": {},
   "source": [
    "5. Write a program that determines the name of a shape\n",
    "from its number of sides. Read the number of sides from the\n",
    "user and then report the appropriate name as part of a\n",
    "meaningful message. Your program should support shapes\n",
    "with anywhere from 3 up to (and including) 10 sides. If a\n",
    "number of sides outside of this range is entered then your\n",
    "program should display an appropriate error message."
   ]
  },
  {
   "cell_type": "code",
   "execution_count": 2,
   "metadata": {},
   "outputs": [
    {
     "name": "stdout",
     "output_type": "stream",
     "text": [
      "Enter the sides11\n",
      "The no. of sides is not supported by the program\n"
     ]
    }
   ],
   "source": [
    "a = int(input(\"Enter the sides\"))\n",
    "if a==3:\n",
    "    print(\"That's Triangle\")\n",
    "elif a==4:\n",
    "    print(\"That's Quadrilateral\")\n",
    "elif a==5:\n",
    "    print(\"That's Pentagon\")\n",
    "elif a==6:\n",
    "    print(\"That's Hexagon\")\n",
    "elif a==7:\n",
    "    print(\"That's Heptagon\")\n",
    "elif a==8:\n",
    "    print(\"That's Octagon\")\n",
    "elif a==9:\n",
    "    print(\"That's Nonagon\")\n",
    "elif a==10:\n",
    "    print(\"That's Decagon\")\n",
    "else:\n",
    "    print(\"The no. of sides is not supported by the program\")"
   ]
  },
  {
   "cell_type": "markdown",
   "metadata": {},
   "source": [
    "6. A shop will give a discount of 10% if the cost of the\n",
    "purchased quantity is more than 1000. Ask the user for\n",
    "quantity, suppose, one unit will cost 100. Judge and print\n",
    "total cost for user."
   ]
  },
  {
   "cell_type": "code",
   "execution_count": 2,
   "metadata": {},
   "outputs": [
    {
     "name": "stdout",
     "output_type": "stream",
     "text": [
      "Enter the quantity 12\n",
      "total cost per user  1080.0\n"
     ]
    }
   ],
   "source": [
    "q = int(input(\"Enter the quantity \"))\n",
    "unit_cost = 100\n",
    "cost = q*100\n",
    "if cost >1000:\n",
    "    cost = cost - 0.1*cost\n",
    "print(\"total cost per user \",cost)"
   ]
  },
  {
   "cell_type": "markdown",
   "metadata": {},
   "source": [
    "7. Take input of age of 3 people by user and determine\n",
    "oldest and youngest among them."
   ]
  },
  {
   "cell_type": "code",
   "execution_count": 1,
   "metadata": {},
   "outputs": [
    {
     "name": "stdout",
     "output_type": "stream",
     "text": [
      "Enter age of 1st Person23\n",
      "Enter age of 2nd Person32\n",
      "Enter age of 3rd Person15\n",
      "Oldest person with age  32\n",
      "Youngest person with age  15\n"
     ]
    }
   ],
   "source": [
    "age1 = int(input(\"Enter age of 1st Person\"))\n",
    "age2 = int(input(\"Enter age of 2nd Person\"))\n",
    "age3 = int(input(\"Enter age of 3rd Person\"))\n",
    "old_age = max(age1,age2,age3)\n",
    "young_age = min(age1,age2,age3)\n",
    "print(\"Oldest person with age \",old_age)\n",
    "print(\"Youngest person with age \",young_age)"
   ]
  },
  {
   "cell_type": "markdown",
   "metadata": {},
   "source": [
    "8. A company decided to give a bonus of 5% to an employee\n",
    "if his/her year of service is more than 5 years. Ask user for\n",
    "their salary and year of service and print the net bonus\n",
    "amount."
   ]
  },
  {
   "cell_type": "code",
   "execution_count": 1,
   "metadata": {},
   "outputs": [
    {
     "name": "stdout",
     "output_type": "stream",
     "text": [
      "Enter the salary1000\n",
      "Enter year of service6\n",
      "Net bonus amount is  300.0\n"
     ]
    }
   ],
   "source": [
    "salary = int(input(\"Enter the salary\"))\n",
    "yr_of_service = int(input(\"Enter year of service\"))\n",
    "net_bonus = 0\n",
    "if yr_of_service > 5:\n",
    "    net_bonus = net_bonus + salary * yr_of_service * 0.05\n",
    "print(\"Net bonus amount is \",net_bonus)"
   ]
  },
  {
   "cell_type": "markdown",
   "metadata": {},
   "source": [
    "9. Write a program to check if a year is leap year or not.\n",
    "If a year is divisible by 4 then it is leap year but if the year is\n",
    "a century year like 2000, 1900, 2100 then it must be divisible\n",
    "by 400."
   ]
  },
  {
   "cell_type": "code",
   "execution_count": 6,
   "metadata": {},
   "outputs": [
    {
     "name": "stdout",
     "output_type": "stream",
     "text": [
      "Enter a year 2019\n",
      "year is not a leap year\n"
     ]
    }
   ],
   "source": [
    "year = int(input(\"Enter a year \"))\n",
    "if year%4==0 or year%400==0:\n",
    "    print(\"year is a leap year\")\n",
    "else:\n",
    "    print(\"year is not a leap year\")"
   ]
  },
  {
   "cell_type": "markdown",
   "metadata": {},
   "source": [
    "10. Accept d1 and d2 as input. First, check to see that they\n",
    "are in the proper range for dice. If not, print a message.\n",
    "Otherwise, determine the outcome if this is the come out roll.\n",
    "If the sum is 7 or 11, print the winner. If the sum is 2, 3 or\n",
    "12, print loser. Otherwise print the point."
   ]
  },
  {
   "cell_type": "code",
   "execution_count": 9,
   "metadata": {},
   "outputs": [
    {
     "name": "stdout",
     "output_type": "stream",
     "text": [
      "Dice 1 =7\n",
      "Dice 2 =0\n",
      "Dice are not in proper range\n"
     ]
    }
   ],
   "source": [
    "d1 = int(input(\"Dice 1 =\"))\n",
    "d2 = int(input(\"Dice 2 =\"))\n",
    "c1 = 0\n",
    "c2 = 0\n",
    "if (d1==1 or d1==2 or d1==3 or d1==4 or d1==5 or d1==6) and (d2==1 or d2==2 or d2==3 or d2==4 or d2==5 or d2==6):\n",
    "    print(\"Proper range for dice\")    \n",
    "    sum1 = d1 + d2\n",
    "    if sum1 in (7,11):\n",
    "        print(\"Winner\")\n",
    "    elif sum1 in (2,3,12):\n",
    "        print(\"Looser\")\n",
    "    else:\n",
    "        print(\"Outcome is a failure\")\n",
    "else:\n",
    "    print(\"Dice are not in proper range\")"
   ]
  },
  {
   "cell_type": "markdown",
   "metadata": {},
   "source": [
    "11. Write a python program to display the number of days in\n",
    "a month name from the given list of months or month\n",
    "number entered by user."
   ]
  },
  {
   "cell_type": "code",
   "execution_count": 1,
   "metadata": {},
   "outputs": [
    {
     "name": "stdout",
     "output_type": "stream",
     "text": [
      "List of months: January, February, March, April, May, June, July, August, September, October, November, December\n",
      "Input the name of Month: Feb\n",
      "Wrong month name\n"
     ]
    }
   ],
   "source": [
    "print(\"List of months: January, February, March, April, May, June, July, August, September, October, November, December\")\n",
    "month_name = input(\"Input the name of Month: \")\n",
    "\n",
    "if month_name == \"February\":\n",
    "\tprint(\"No. of days: 28/29 days\")\n",
    "elif month_name in (\"April\", \"June\", \"September\", \"November\"):\n",
    "\tprint(\"No. of days: 30 days\")\n",
    "elif month_name in (\"January\", \"March\", \"May\", \"July\", \"August\", \"October\", \"December\"):\n",
    "\tprint(\"No. of days: 31 day\")\n",
    "else:\n",
    "\tprint(\"Wrong month name\") "
   ]
  },
  {
   "cell_type": "markdown",
   "metadata": {},
   "source": [
    "12. Write a Python program to get next day of a given date."
   ]
  },
  {
   "cell_type": "code",
   "execution_count": 3,
   "metadata": {},
   "outputs": [
    {
     "name": "stdout",
     "output_type": "stream",
     "text": [
      "ENTER THE DAY : 28\n",
      "ENTER THE MONTH : 2\n",
      "ENTER THE YEAR : 2020\n",
      "NEXT DAY IS :  29 / 2 / 2020\n"
     ]
    }
   ],
   "source": [
    "d=int(input(\"ENTER THE DAY : \"))\n",
    "m=int(input(\"ENTER THE MONTH : \"))\n",
    "y=int(input(\"ENTER THE YEAR : \"))\n",
    "\n",
    "if ((y % 4 == 0) and (y % 100!= 0)) or (y%400 == 0):\n",
    "    if m==2:\n",
    "        d1=29\n",
    "    elif m==1 or m==3 or m==5 or m==7 or m==8 or m==10 or m==12:\n",
    "        d1=31\n",
    "    else :\n",
    "        d1=30\n",
    "else:\n",
    "    if m==2:\n",
    "        d1=28\n",
    "    elif m==1 or m==3 or m==5 or m==7 or m==8 or m==10 or m==12:\n",
    "        d1=31\n",
    "    else :\n",
    "        d1=30\n",
    "if d==31 and m==12:\n",
    "    d=1\n",
    "    m=1\n",
    "    y=y+1   \n",
    "elif d1-d==0:\n",
    "    m=m+1\n",
    "    d=1\n",
    "else:\n",
    "    d=d+1\n",
    "print(\"NEXT DAY IS : \",d,\"/\",m,\"/\",y)"
   ]
  }
 ],
 "metadata": {
  "kernelspec": {
   "display_name": "Python 3",
   "language": "python",
   "name": "python3"
  },
  "language_info": {
   "codemirror_mode": {
    "name": "ipython",
    "version": 3
   },
   "file_extension": ".py",
   "mimetype": "text/x-python",
   "name": "python",
   "nbconvert_exporter": "python",
   "pygments_lexer": "ipython3",
   "version": "3.7.6"
  }
 },
 "nbformat": 4,
 "nbformat_minor": 4
}
